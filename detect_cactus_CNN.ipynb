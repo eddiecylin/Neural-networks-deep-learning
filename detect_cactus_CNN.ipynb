{
  "nbformat": 4,
  "nbformat_minor": 0,
  "metadata": {
    "colab": {
      "name": "detect-cactus.ipynb",
      "version": "0.3.2",
      "provenance": [],
      "collapsed_sections": [],
      "toc_visible": true
    },
    "kernelspec": {
      "name": "python3",
      "display_name": "Python 3"
    },
    "accelerator": "GPU"
  },
  "cells": [
    {
      "cell_type": "markdown",
      "metadata": {
        "id": "sArXI23PxAEc",
        "colab_type": "text"
      },
      "source": [
        "# **Introduction:**\n",
        "\n",
        "This notebook is created based on prior work built by Cameron Cruz: https://towardsdatascience.com/easy-image-classification-with-tensorflow-2-0-f734fee52d13\n",
        "with a few personal tweaks and tinkering. The purpose of this notebook is to implement CNN to identify cactus from aerial images, the original data can be found from Kaggle: https://www.kaggle.com/c/aerial-cactus-identification\n",
        "\n"
      ]
    },
    {
      "cell_type": "markdown",
      "metadata": {
        "id": "Xn0Cu0UE06IL",
        "colab_type": "text"
      },
      "source": [
        "# 0. Set-up work directory and import data"
      ]
    },
    {
      "cell_type": "code",
      "metadata": {
        "id": "oaesVnQt1A4U",
        "colab_type": "code",
        "outputId": "608eaf1b-43ea-4bc0-937a-cb36240dd67d",
        "colab": {
          "resources": {
            "http://localhost:8080/nbextensions/google.colab/files.js": {
              "data": "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",
              "ok": true,
              "headers": [
                [
                  "content-type",
                  "application/javascript"
                ]
              ],
              "status": 200,
              "status_text": ""
            }
          },
          "base_uri": "https://localhost:8080/",
          "height": 89
        }
      },
      "source": [
        "# Setup Kaggle API\n",
        "from google.colab import files\n",
        "files.upload()"
      ],
      "execution_count": 1,
      "outputs": [
        {
          "output_type": "display_data",
          "data": {
            "text/html": [
              "\n",
              "     <input type=\"file\" id=\"files-16eff4bd-3166-4721-9236-20cf521fe9ca\" name=\"files[]\" multiple disabled />\n",
              "     <output id=\"result-16eff4bd-3166-4721-9236-20cf521fe9ca\">\n",
              "      Upload widget is only available when the cell has been executed in the\n",
              "      current browser session. Please rerun this cell to enable.\n",
              "      </output>\n",
              "      <script src=\"/nbextensions/google.colab/files.js\"></script> "
            ],
            "text/plain": [
              "<IPython.core.display.HTML object>"
            ]
          },
          "metadata": {
            "tags": []
          }
        },
        {
          "output_type": "stream",
          "text": [
            "Saving kaggle.json to kaggle (1).json\n"
          ],
          "name": "stdout"
        },
        {
          "output_type": "execute_result",
          "data": {
            "text/plain": [
              "{'kaggle.json': b'{\"username\":\"eddie2020\",\"key\":\"5f0699e976b55081027c5e3bd4b06619\"}'}"
            ]
          },
          "metadata": {
            "tags": []
          },
          "execution_count": 1
        }
      ]
    },
    {
      "cell_type": "code",
      "metadata": {
        "id": "HvKlftvbUie7",
        "colab_type": "code",
        "outputId": "4ee2149d-8b78-47c4-ff45-b2571567ff83",
        "colab": {
          "base_uri": "https://localhost:8080/",
          "height": 35
        }
      },
      "source": [
        "!mkdir -p ~/.kaggle\n",
        "!cp kaggle.json ~/.kaggle/\n",
        "!chmod 600 ~/.kaggle/kaggle.json\n",
        "!ls ~/.kaggle"
      ],
      "execution_count": 2,
      "outputs": [
        {
          "output_type": "stream",
          "text": [
            "kaggle.json\n"
          ],
          "name": "stdout"
        }
      ]
    },
    {
      "cell_type": "code",
      "metadata": {
        "id": "FYqMudffUpe5",
        "colab_type": "code",
        "outputId": "e4b2a86e-4c7d-44f0-90d3-c243b3b4c3b0",
        "colab": {
          "base_uri": "https://localhost:8080/",
          "height": 69
        }
      },
      "source": [
        "!ls -l ~/.kaggle\n",
        "!cat ~/.kaggle/kaggle.json\n"
      ],
      "execution_count": 3,
      "outputs": [
        {
          "output_type": "stream",
          "text": [
            "total 4\n",
            "-rw------- 1 root root 65 Jun  3 02:54 kaggle.json\n",
            "{\"username\":\"eddie2020\",\"key\":\"5f0699e976b55081027c5e3bd4b06619\"}"
          ],
          "name": "stdout"
        }
      ]
    },
    {
      "cell_type": "code",
      "metadata": {
        "id": "WLoUqhcnUuY0",
        "colab_type": "code",
        "outputId": "4b46872a-43e9-4838-b6ae-88b31bf6ff32",
        "colab": {
          "base_uri": "https://localhost:8080/",
          "height": 138
        }
      },
      "source": [
        "!pip install -q kaggle\n",
        "!pip install -q kaggle-cli"
      ],
      "execution_count": 4,
      "outputs": [
        {
          "output_type": "stream",
          "text": [
            "\u001b[K     |████████████████████████████████| 81kB 3.8MB/s \n",
            "\u001b[K     |████████████████████████████████| 5.3MB 9.6MB/s \n",
            "\u001b[K     |████████████████████████████████| 102kB 33.4MB/s \n",
            "\u001b[K     |████████████████████████████████| 51kB 26.5MB/s \n",
            "\u001b[K     |████████████████████████████████| 112kB 57.9MB/s \n",
            "\u001b[?25h  Building wheel for kaggle-cli (setup.py) ... \u001b[?25l\u001b[?25hdone\n",
            "  Building wheel for pyperclip (setup.py) ... \u001b[?25l\u001b[?25hdone\n"
          ],
          "name": "stdout"
        }
      ]
    },
    {
      "cell_type": "code",
      "metadata": {
        "id": "5LVRoWO9WpvK",
        "colab_type": "code",
        "outputId": "a140b3c0-c860-41bf-86ca-4b02aa7d790f",
        "colab": {
          "base_uri": "https://localhost:8080/",
          "height": 225
        }
      },
      "source": [
        "!kaggle competitions download -c aerial-cactus-identification -p data"
      ],
      "execution_count": 5,
      "outputs": [
        {
          "output_type": "stream",
          "text": [
            "Downloading train.csv to data\n",
            "\r  0% 0.00/667k [00:00<?, ?B/s]\n",
            "100% 667k/667k [00:00<00:00, 44.8MB/s]\n",
            "Downloading sample_submission.csv to data\n",
            "  0% 0.00/160k [00:00<?, ?B/s]\n",
            "100% 160k/160k [00:00<00:00, 52.9MB/s]\n",
            "Downloading test.zip to data\n",
            "100% 4.20M/4.20M [00:00<00:00, 38.0MB/s]\n",
            "\n",
            "Downloading train.zip to data\n",
            " 26% 5.00M/19.2M [00:00<00:00, 22.7MB/s]\n",
            "100% 19.2M/19.2M [00:00<00:00, 64.1MB/s]\n"
          ],
          "name": "stdout"
        }
      ]
    },
    {
      "cell_type": "code",
      "metadata": {
        "id": "JfldO-qy5LuF",
        "colab_type": "code",
        "colab": {}
      },
      "source": [
        "# Unzip dataset\n",
        "!unzip data/train.zip -d data\n",
        "!unzip data/test.zip -d data"
      ],
      "execution_count": 0,
      "outputs": []
    },
    {
      "cell_type": "markdown",
      "metadata": {
        "id": "9OXQvf4Z1Mac",
        "colab_type": "text"
      },
      "source": [
        "#1.  Install TF 2.0 and other packages"
      ]
    },
    {
      "cell_type": "code",
      "metadata": {
        "id": "8MGw-k4F1gsl",
        "colab_type": "code",
        "outputId": "1fae33af-e62a-432c-90da-1c5d48e82644",
        "colab": {
          "base_uri": "https://localhost:8080/",
          "height": 538
        }
      },
      "source": [
        "!pip install tensorflow-gpu==2.0.0-alpha0"
      ],
      "execution_count": 7,
      "outputs": [
        {
          "output_type": "stream",
          "text": [
            "Collecting tensorflow-gpu==2.0.0-alpha0\n",
            "\u001b[?25l  Downloading https://files.pythonhosted.org/packages/1a/66/32cffad095253219d53f6b6c2a436637bbe45ac4e7be0244557210dc3918/tensorflow_gpu-2.0.0a0-cp36-cp36m-manylinux1_x86_64.whl (332.1MB)\n",
            "\u001b[K     |████████████████████████████████| 332.1MB 51kB/s \n",
            "\u001b[?25hRequirement already satisfied: gast>=0.2.0 in /usr/local/lib/python3.6/dist-packages (from tensorflow-gpu==2.0.0-alpha0) (0.2.2)\n",
            "Requirement already satisfied: termcolor>=1.1.0 in /usr/local/lib/python3.6/dist-packages (from tensorflow-gpu==2.0.0-alpha0) (1.1.0)\n",
            "Requirement already satisfied: wheel>=0.26 in /usr/local/lib/python3.6/dist-packages (from tensorflow-gpu==2.0.0-alpha0) (0.33.4)\n",
            "Requirement already satisfied: astor>=0.6.0 in /usr/local/lib/python3.6/dist-packages (from tensorflow-gpu==2.0.0-alpha0) (0.8.0)\n",
            "Requirement already satisfied: grpcio>=1.8.6 in /usr/local/lib/python3.6/dist-packages (from tensorflow-gpu==2.0.0-alpha0) (1.15.0)\n",
            "Requirement already satisfied: keras-preprocessing>=1.0.5 in /usr/local/lib/python3.6/dist-packages (from tensorflow-gpu==2.0.0-alpha0) (1.0.9)\n",
            "Requirement already satisfied: numpy<2.0,>=1.14.5 in /usr/local/lib/python3.6/dist-packages (from tensorflow-gpu==2.0.0-alpha0) (1.16.4)\n",
            "Requirement already satisfied: six>=1.10.0 in /usr/local/lib/python3.6/dist-packages (from tensorflow-gpu==2.0.0-alpha0) (1.12.0)\n",
            "Collecting google-pasta>=0.1.2 (from tensorflow-gpu==2.0.0-alpha0)\n",
            "\u001b[?25l  Downloading https://files.pythonhosted.org/packages/d0/33/376510eb8d6246f3c30545f416b2263eee461e40940c2a4413c711bdf62d/google_pasta-0.1.7-py3-none-any.whl (52kB)\n",
            "\u001b[K     |████████████████████████████████| 61kB 27.5MB/s \n",
            "\u001b[?25hRequirement already satisfied: keras-applications>=1.0.6 in /usr/local/lib/python3.6/dist-packages (from tensorflow-gpu==2.0.0-alpha0) (1.0.7)\n",
            "Requirement already satisfied: protobuf>=3.6.1 in /usr/local/lib/python3.6/dist-packages (from tensorflow-gpu==2.0.0-alpha0) (3.7.1)\n",
            "Collecting tb-nightly<1.14.0a20190302,>=1.14.0a20190301 (from tensorflow-gpu==2.0.0-alpha0)\n",
            "\u001b[?25l  Downloading https://files.pythonhosted.org/packages/a9/51/aa1d756644bf4624c03844115e4ac4058eff77acd786b26315f051a4b195/tb_nightly-1.14.0a20190301-py3-none-any.whl (3.0MB)\n",
            "\u001b[K     |████████████████████████████████| 3.0MB 33.7MB/s \n",
            "\u001b[?25hCollecting tf-estimator-nightly<1.14.0.dev2019030116,>=1.14.0.dev2019030115 (from tensorflow-gpu==2.0.0-alpha0)\n",
            "\u001b[?25l  Downloading https://files.pythonhosted.org/packages/13/82/f16063b4eed210dc2ab057930ac1da4fbe1e91b7b051a6c8370b401e6ae7/tf_estimator_nightly-1.14.0.dev2019030115-py2.py3-none-any.whl (411kB)\n",
            "\u001b[K     |████████████████████████████████| 419kB 51.9MB/s \n",
            "\u001b[?25hRequirement already satisfied: absl-py>=0.7.0 in /usr/local/lib/python3.6/dist-packages (from tensorflow-gpu==2.0.0-alpha0) (0.7.1)\n",
            "Requirement already satisfied: h5py in /usr/local/lib/python3.6/dist-packages (from keras-applications>=1.0.6->tensorflow-gpu==2.0.0-alpha0) (2.8.0)\n",
            "Requirement already satisfied: setuptools in /usr/local/lib/python3.6/dist-packages (from protobuf>=3.6.1->tensorflow-gpu==2.0.0-alpha0) (41.0.1)\n",
            "Requirement already satisfied: markdown>=2.6.8 in /usr/local/lib/python3.6/dist-packages (from tb-nightly<1.14.0a20190302,>=1.14.0a20190301->tensorflow-gpu==2.0.0-alpha0) (3.1.1)\n",
            "Requirement already satisfied: werkzeug>=0.11.15 in /usr/local/lib/python3.6/dist-packages (from tb-nightly<1.14.0a20190302,>=1.14.0a20190301->tensorflow-gpu==2.0.0-alpha0) (0.15.4)\n",
            "Installing collected packages: google-pasta, tb-nightly, tf-estimator-nightly, tensorflow-gpu\n",
            "Successfully installed google-pasta-0.1.7 tb-nightly-1.14.0a20190301 tensorflow-gpu-2.0.0a0 tf-estimator-nightly-1.14.0.dev2019030115\n"
          ],
          "name": "stdout"
        }
      ]
    },
    {
      "cell_type": "code",
      "metadata": {
        "id": "eZ9tr9cM1Pbx",
        "colab_type": "code",
        "outputId": "304fe0c6-16a8-43ae-fe74-d5addcc6e106",
        "colab": {
          "base_uri": "https://localhost:8080/",
          "height": 35
        }
      },
      "source": [
        "import tensorflow as tf\n",
        "import pandas as pd\n",
        "import matplotlib.pyplot as plt\n",
        "from sklearn.model_selection import train_test_split\n",
        "from IPython.display import Image, display\n",
        "\n",
        "print(tf.__version__)"
      ],
      "execution_count": 28,
      "outputs": [
        {
          "output_type": "stream",
          "text": [
            "2.0.0-alpha0\n"
          ],
          "name": "stdout"
        }
      ]
    },
    {
      "cell_type": "markdown",
      "metadata": {
        "id": "pshy6xkkKS_J",
        "colab_type": "text"
      },
      "source": [
        "# 2. Inspect Data"
      ]
    },
    {
      "cell_type": "code",
      "metadata": {
        "id": "I55FjqekKXcH",
        "colab_type": "code",
        "outputId": "bfc56cdb-9e85-403e-95b7-a2713a6d905c",
        "colab": {
          "base_uri": "https://localhost:8080/",
          "height": 898
        }
      },
      "source": [
        "train_csv = pd.read_csv('data/train.csv')\n",
        "print(train_csv.head(50))"
      ],
      "execution_count": 15,
      "outputs": [
        {
          "output_type": "stream",
          "text": [
            "                                      id  has_cactus\n",
            "0   0004be2cfeaba1c0361d39e2b000257b.jpg           1\n",
            "1   000c8a36845c0208e833c79c1bffedd1.jpg           1\n",
            "2   000d1e9a533f62e55c289303b072733d.jpg           1\n",
            "3   0011485b40695e9138e92d0b3fb55128.jpg           1\n",
            "4   0014d7a11e90b62848904c1418fc8cf2.jpg           1\n",
            "5   0017c3c18ddd57a2ea6f9848c79d83d2.jpg           1\n",
            "6   002134abf28af54575c18741b89dd2a4.jpg           0\n",
            "7   0024320f43bdd490562246435af4f90b.jpg           0\n",
            "8   002930423b9840e67e5a54afd4768a1e.jpg           1\n",
            "9   00351838ebf6dff6e53056e00a1e307c.jpg           1\n",
            "10  003519dd841a97ed16481fa0657df04d.jpg           1\n",
            "11  003bb64852016d9c87871ddd8e25ab03.jpg           0\n",
            "12  003ec9bcef67171ba49fe4c3b7c80aec.jpg           1\n",
            "13  003eeb9a86e36cd6328c778c15df890d.jpg           1\n",
            "14  0045d0f2aec739370eaefac79ee5b96c.jpg           0\n",
            "15  004fceec9b9b6a31dc9b0540fd69c692.jpg           1\n",
            "16  0051207eb794887c619341090de84b50.jpg           0\n",
            "17  0052d90950c3f08ed778d638a956fd43.jpg           0\n",
            "18  0057728c8522c4881af60c3105b6492e.jpg           0\n",
            "19  005aa32619d179665ecad3b227f8b537.jpg           1\n",
            "20  0062380830fe60c692a148afe64906ac.jpg           0\n",
            "21  00677f0440d465c2a685e33ded9bb729.jpg           1\n",
            "22  006bceec83605c63d844ed160cdbba89.jpg           1\n",
            "23  007a6a49d6049207f1716d1cc0fdf175.jpg           1\n",
            "24  007eba3edaf50d328eb0b668ab2f8d52.jpg           1\n",
            "25  0085d61fa046172fa53f4c2cb76d8641.jpg           1\n",
            "26  0086c5ddeb9e0b1f5ed6baedceece668.jpg           1\n",
            "27  008bd3d84a1145e154409c124de7cee9.jpg           1\n",
            "28  008ce77c81fdfd4a29c128207916c1b0.jpg           1\n",
            "29  008d5b24c8348d3f52e84e4f7e2780b1.jpg           1\n",
            "30  008f9bf9127809bdc41b065c566ff1a9.jpg           1\n",
            "31  008fa43d2e3c2354fc174d22a12a2055.jpg           1\n",
            "32  0090d921aeb53be7e3df6f4b0254c537.jpg           1\n",
            "33  009350e896ad5c23456ce7697d4de276.jpg           1\n",
            "34  0098b2c749cbefad0eb598f03d2ba66c.jpg           1\n",
            "35  009a1fa4c8cf96d216e68f59d7a03799.jpg           1\n",
            "36  009bcc93b5d86dacc456b2b3fbd8024e.jpg           0\n",
            "37  009eead3ac74832bc9822f3342d97fce.jpg           1\n",
            "38  009f18f4e191d6ebe3adb7c82844218a.jpg           1\n",
            "39  009fcf549cf42ad97e34f9eb2bc9c7e7.jpg           1\n",
            "40  00a8c7e14298819281fe1a81434d19c4.jpg           1\n",
            "41  00acf6bfe9ceefb3ea1e7629e4912a31.jpg           1\n",
            "42  00b4dfbb267109b5f0d0dde365fa6161.jpg           1\n",
            "43  00b5670821357d6de4c9eec458b9da86.jpg           0\n",
            "44  00ba3da3fe6d600703e28dece68fbb12.jpg           1\n",
            "45  00be32b57f411d75293bb7234aabeb58.jpg           1\n",
            "46  00be47a4bd00312a5d2a6cb2c0e6dea3.jpg           0\n",
            "47  00bebf411282511240a19508b5889d1f.jpg           1\n",
            "48  00c87df5297724cce38803472916585f.jpg           1\n",
            "49  00cc6be8aeaa9464fc1d9bc5d4f716e8.jpg           0\n"
          ],
          "name": "stdout"
        }
      ]
    },
    {
      "cell_type": "markdown",
      "metadata": {
        "id": "9C657f7KzI2o",
        "colab_type": "text"
      },
      "source": [
        "# 3. Sanity check for images (w/ and without cactus)"
      ]
    },
    {
      "cell_type": "code",
      "metadata": {
        "id": "Ev19stmVY5xa",
        "colab_type": "code",
        "colab": {}
      },
      "source": [
        "# filter photos \n",
        "no_cactus = train_csv.loc[train_csv['has_cactus'] == 0]\n",
        "cactus = train_csv.loc[train_csv['has_cactus'] == 1]"
      ],
      "execution_count": 0,
      "outputs": []
    },
    {
      "cell_type": "code",
      "metadata": {
        "id": "FKtCbwQ0aggZ",
        "colab_type": "code",
        "colab": {}
      },
      "source": [
        "no_cactus_list = ['data/train/' + id for id in no_cactus['id'].tolist()]\n",
        "cactus_list = ['data/train/' + id for id in cactus['id'].tolist()]\n"
      ],
      "execution_count": 0,
      "outputs": []
    },
    {
      "cell_type": "code",
      "metadata": {
        "id": "-J6vQpTmbupD",
        "colab_type": "code",
        "colab": {}
      },
      "source": [
        "from IPython.display import display, Image\n",
        "import PIL.Image\n",
        "from io import BytesIO\n",
        "import cv2\n",
        "from glob import glob\n",
        "\n",
        "def show_image(img, fmt='png'):\n",
        "    a = np.uint8(img)\n",
        "    f = BytesIO()\n",
        "    PIL.Image.fromarray(a).save(f, fmt)\n",
        "    display(Image(data=f.getvalue()))\n",
        "\n"
      ],
      "execution_count": 0,
      "outputs": []
    },
    {
      "cell_type": "code",
      "metadata": {
        "id": "_J09cutljo7A",
        "colab_type": "code",
        "colab": {
          "base_uri": "https://localhost:8080/",
          "height": 335
        },
        "outputId": "f99c748d-b20c-409f-e52a-deb865327c86"
      },
      "source": [
        "# print out the first 10 no-catcus images \n",
        "\n",
        "for image in no_cactus_list[:10]:\n",
        "    img = cv2.imread(image)\n",
        "    show_image(img)"
      ],
      "execution_count": 60,
      "outputs": [
        {
          "output_type": "display_data",
          "data": {
            "image/png": "[encoded data removed]",
            "text/plain": [
              "<IPython.core.display.Image object>"
            ]
          },
          "metadata": {
            "tags": []
          }
        },
        {
          "output_type": "display_data",
          "data": {
            "image/png": "[encoded data removed]",
            "text/plain": [
              "<IPython.core.display.Image object>"
            ]
          },
          "metadata": {
            "tags": []
          }
        },
        {
          "output_type": "display_data",
          "data": {
            "image/png": "[encoded data removed]",
            "text/plain": [
              "<IPython.core.display.Image object>"
            ]
          },
          "metadata": {
            "tags": []
          }
        },
        {
          "output_type": "display_data",
          "data": {
            "image/png": "[encoded data removed]",
            "text/plain": [
              "<IPython.core.display.Image object>"
            ]
          },
          "metadata": {
            "tags": []
          }
        },
        {
          "output_type": "display_data",
          "data": {
            "image/png": "[encoded data removed]",
            "text/plain": [
              "<IPython.core.display.Image object>"
            ]
          },
          "metadata": {
            "tags": []
          }
        },
        {
          "output_type": "display_data",
          "data": {
            "image/png": "[encoded data removed]",
            "text/plain": [
              "<IPython.core.display.Image object>"
            ]
          },
          "metadata": {
            "tags": []
          }
        },
        {
          "output_type": "display_data",
          "data": {
            "image/png": "[encoded data removed]",
            "text/plain": [
              "<IPython.core.display.Image object>"
            ]
          },
          "metadata": {
            "tags": []
          }
        },
        {
          "output_type": "display_data",
          "data": {
            "image/png": "[encoded data removed]",
            "text/plain": [
              "<IPython.core.display.Image object>"
            ]
          },
          "metadata": {
            "tags": []
          }
        },
        {
          "output_type": "display_data",
          "data": {
            "image/png": "[encoded data removed]",
            "text/plain": [
              "<IPython.core.display.Image object>"
            ]
          },
          "metadata": {
            "tags": []
          }
        },
        {
          "output_type": "display_data",
          "data": {
            "image/png": "[encoded data removed]",
            "text/plain": [
              "<IPython.core.display.Image object>"
            ]
          },
          "metadata": {
            "tags": []
          }
        }
      ]
    },
    {
      "cell_type": "code",
      "metadata": {
        "id": "ouC7Gywbnd4w",
        "colab_type": "code",
        "colab": {
          "base_uri": "https://localhost:8080/",
          "height": 335
        },
        "outputId": "f22d8b4f-7114-4956-f8da-e7b59e062b4a"
      },
      "source": [
        "# print out the first 10 images with catcus\n",
        "\n",
        "for image in cactus_list[:10]:\n",
        "    img = cv2.imread(image)\n",
        "    show_image(img)"
      ],
      "execution_count": 61,
      "outputs": [
        {
          "output_type": "display_data",
          "data": {
            "image/png": "[encoded data removed]",
            "text/plain": [
              "<IPython.core.display.Image object>"
            ]
          },
          "metadata": {
            "tags": []
          }
        },
        {
          "output_type": "display_data",
          "data": {
            "image/png": "[encoded data removed]",
            "text/plain": [
              "<IPython.core.display.Image object>"
            ]
          },
          "metadata": {
            "tags": []
          }
        },
        {
          "output_type": "display_data",
          "data": {
            "image/png": "[encoded data removed]",
            "text/plain": [
              "<IPython.core.display.Image object>"
            ]
          },
          "metadata": {
            "tags": []
          }
        },
        {
          "output_type": "display_data",
          "data": {
            "image/png": "[encoded data removed]",
            "text/plain": [
              "<IPython.core.display.Image object>"
            ]
          },
          "metadata": {
            "tags": []
          }
        },
        {
          "output_type": "display_data",
          "data": {
            "image/png": "[encoded data removed]",
            "text/plain": [
              "<IPython.core.display.Image object>"
            ]
          },
          "metadata": {
            "tags": []
          }
        },
        {
          "output_type": "display_data",
          "data": {
            "image/png": "[encoded data removed]",
            "text/plain": [
              "<IPython.core.display.Image object>"
            ]
          },
          "metadata": {
            "tags": []
          }
        },
        {
          "output_type": "display_data",
          "data": {
            "image/png": "[encoded data removed]",
            "text/plain": [
              "<IPython.core.display.Image object>"
            ]
          },
          "metadata": {
            "tags": []
          }
        },
        {
          "output_type": "display_data",
          "data": {
            "image/png": "[encoded data removed]",
            "text/plain": [
              "<IPython.core.display.Image object>"
            ]
          },
          "metadata": {
            "tags": []
          }
        },
        {
          "output_type": "display_data",
          "data": {
            "image/png": "[encoded data removed]",
            "text/plain": [
              "<IPython.core.display.Image object>"
            ]
          },
          "metadata": {
            "tags": []
          }
        },
        {
          "output_type": "display_data",
          "data": {
            "image/png": "[encoded data removed]",
            "text/plain": [
              "<IPython.core.display.Image object>"
            ]
          },
          "metadata": {
            "tags": []
          }
        }
      ]
    },
    {
      "cell_type": "markdown",
      "metadata": {
        "id": "sZz_tVKHPG_A",
        "colab_type": "text"
      },
      "source": [
        "#4.  Preprocess Data"
      ]
    },
    {
      "cell_type": "code",
      "metadata": {
        "id": "h3-YukDsRzim",
        "colab_type": "code",
        "colab": {}
      },
      "source": [
        "filenames = ['data/train/' + fname for fname in train_csv['id'].tolist()]\n",
        "labels = train_csv['has_cactus'].tolist()\n",
        "\n",
        "train_filenames, test_filenames, train_labels, test_labels = train_test_split(filenames,\n",
        "                                                                            labels,\n",
        "                                                                            train_size=0.8,\n",
        "                                                                            random_state=1357)\n",
        "# num_train = len(train_filenames)\n",
        "# num_test = len(val_filenames)\n",
        "print(num_train)\n",
        "print(num_test)"
      ],
      "execution_count": 0,
      "outputs": []
    },
    {
      "cell_type": "code",
      "metadata": {
        "id": "cGU129RExw5h",
        "colab_type": "code",
        "colab": {}
      },
      "source": [
        "def image_process(filename, label):\n",
        "  pic_filename = tf.io.read_file(filename)\n",
        "  pic_decode = tf.image.decode_jpeg(pic_filename)\n",
        "  pic_normalize = (tf.cast(pic_decode, tf.float32)/127.5) - 1\n",
        "  pic_resize = tf.image.resize(pic_normalize, (128, 128))\n",
        "  return pic_resize, label"
      ],
      "execution_count": 0,
      "outputs": []
    },
    {
      "cell_type": "markdown",
      "metadata": {
        "id": "ym9GjVkpiaCr",
        "colab_type": "text"
      },
      "source": [
        "#5.  Set up batch size, train, test data"
      ]
    },
    {
      "cell_type": "code",
      "metadata": {
        "id": "YQ2GlcZpK58G",
        "colab_type": "code",
        "colab": {}
      },
      "source": [
        "batch = 25\n",
        "\n",
        "train_data = tf.data.Dataset.from_tensor_slices((tf.constant(train_filenames), tf.constant(train_labels))).map(image_process).shuffle(buffer_size=500).batch(batch)\n",
        "\n",
        "test_data = tf.data.Dataset.from_tensor_slices((tf.constant(val_filenames), tf.constant(val_labels))).map(image_process).batch(batch)"
      ],
      "execution_count": 0,
      "outputs": []
    },
    {
      "cell_type": "markdown",
      "metadata": {
        "id": "29ztNoopPKpo",
        "colab_type": "text"
      },
      "source": [
        "# 6. Define model"
      ]
    },
    {
      "cell_type": "code",
      "metadata": {
        "id": "60OZjAI6PPV2",
        "colab_type": "code",
        "outputId": "d0c3e73b-cbfc-4435-e9f4-c735266f06e7",
        "colab": {
          "base_uri": "https://localhost:8080/",
          "height": 72
        }
      },
      "source": [
        "# Base model with MobileNetV2\n",
        "pic_size = (128, 128, 3)\n",
        "\n",
        "base_model = tf.keras.applications.MobileNetV2(input_shape=pic_size,\n",
        "                                               include_top=False, \n",
        "                                               weights='imagenet')\n",
        "base_model.trainable = False"
      ],
      "execution_count": 0,
      "outputs": [
        {
          "output_type": "stream",
          "text": [
            "Downloading data from https://github.com/JonathanCMitchell/mobilenet_v2_keras/releases/download/v1.1/mobilenet_v2_weights_tf_dim_ordering_tf_kernels_1.0_128_no_top.h5\n",
            "9412608/9406464 [==============================] - 0s 0us/step\n"
          ],
          "name": "stdout"
        }
      ]
    },
    {
      "cell_type": "code",
      "metadata": {
        "id": "kJb-b4pE6_wO",
        "colab_type": "code",
        "colab": {}
      },
      "source": [
        "# Trainable classification head\n",
        "maxpool_layer = tf.keras.layers.GlobalMaxPooling2D()\n",
        "prediction_layer = tf.keras.layers.Dense(1, activation='sigmoid')"
      ],
      "execution_count": 0,
      "outputs": []
    },
    {
      "cell_type": "code",
      "metadata": {
        "id": "hS6vE25E7Wzq",
        "colab_type": "code",
        "outputId": "f9fdfaeb-4df9-47a6-8609-46de64016ff7",
        "colab": {
          "base_uri": "https://localhost:8080/",
          "height": 259
        }
      },
      "source": [
        "learning_rate = 0.0001\n",
        "\n",
        "model = tf.keras.Sequential([\n",
        "    base_model,\n",
        "    maxpool_layer,\n",
        "    prediction_layer\n",
        "])\n",
        "\n",
        "model.compile(optimizer=tf.keras.optimizers.Adam(lr=learning_rate),\n",
        "             loss='binary_crossentropy',\n",
        "             metrics=['accuracy'])\n",
        "\n",
        "model.summary()"
      ],
      "execution_count": 0,
      "outputs": [
        {
          "output_type": "stream",
          "text": [
            "Model: \"sequential\"\n",
            "_________________________________________________________________\n",
            "Layer (type)                 Output Shape              Param #   \n",
            "=================================================================\n",
            "mobilenetv2_1.00_128 (Model) (None, 4, 4, 1280)        2257984   \n",
            "_________________________________________________________________\n",
            "global_max_pooling2d_1 (Glob (None, 1280)              0         \n",
            "_________________________________________________________________\n",
            "dense_1 (Dense)              (None, 1)                 1281      \n",
            "=================================================================\n",
            "Total params: 2,259,265\n",
            "Trainable params: 1,281\n",
            "Non-trainable params: 2,257,984\n",
            "_________________________________________________________________\n"
          ],
          "name": "stdout"
        }
      ]
    },
    {
      "cell_type": "markdown",
      "metadata": {
        "id": "iknJ269VPOiw",
        "colab_type": "text"
      },
      "source": [
        "# 7. Train CNN model"
      ]
    },
    {
      "cell_type": "code",
      "metadata": {
        "id": "LlhFGT5CPROa",
        "colab_type": "code",
        "colab": {}
      },
      "source": [
        "epoch = 50\n",
        "steps_per_epoch = round(num_train)/epoch\n",
        "test_steps = 20"
      ],
      "execution_count": 0,
      "outputs": []
    },
    {
      "cell_type": "code",
      "metadata": {
        "id": "eENW-XWo-O2T",
        "colab_type": "code",
        "outputId": "ead67aeb-91fc-4550-aca8-c0bc3afd2f90",
        "colab": {
          "base_uri": "https://localhost:8080/",
          "height": 1765
        }
      },
      "source": [
        "history = model.fit(train_data.repeat(),\n",
        "                    epochs=epoch,\n",
        "                    steps_per_epoch = steps_per_epoch,\n",
        "                    validation_data=test_data.repeat(), \n",
        "                    validation_steps=test_steps)"
      ],
      "execution_count": 0,
      "outputs": [
        {
          "output_type": "stream",
          "text": [
            "Epoch 1/50\n",
            "280/280 [==============================] - 18s 64ms/step - loss: 0.6464 - accuracy: 0.7599 - val_loss: 0.7767 - val_accuracy: 0.6160\n",
            "Epoch 2/50\n",
            "280/280 [==============================] - 10s 36ms/step - loss: 0.3276 - accuracy: 0.8746 - val_loss: 1.0717 - val_accuracy: 0.5480\n",
            "Epoch 3/50\n",
            "280/280 [==============================] - 10s 36ms/step - loss: 0.2477 - accuracy: 0.9054 - val_loss: 1.1164 - val_accuracy: 0.5600\n",
            "Epoch 4/50\n",
            "280/280 [==============================] - 10s 35ms/step - loss: 0.2115 - accuracy: 0.9176 - val_loss: 1.1496 - val_accuracy: 0.5820\n",
            "Epoch 5/50\n",
            "280/280 [==============================] - 10s 36ms/step - loss: 0.1913 - accuracy: 0.9253 - val_loss: 0.9235 - val_accuracy: 0.6520\n",
            "Epoch 6/50\n",
            "280/280 [==============================] - 10s 35ms/step - loss: 0.1743 - accuracy: 0.9351 - val_loss: 0.7568 - val_accuracy: 0.7060\n",
            "Epoch 7/50\n",
            "280/280 [==============================] - 10s 35ms/step - loss: 0.1796 - accuracy: 0.9331 - val_loss: 0.6629 - val_accuracy: 0.7420\n",
            "Epoch 8/50\n",
            "280/280 [==============================] - 10s 34ms/step - loss: 0.1627 - accuracy: 0.9406 - val_loss: 0.4567 - val_accuracy: 0.8320\n",
            "Epoch 9/50\n",
            "280/280 [==============================] - 10s 35ms/step - loss: 0.1528 - accuracy: 0.9444 - val_loss: 0.2959 - val_accuracy: 0.8900\n",
            "Epoch 10/50\n",
            "280/280 [==============================] - 10s 34ms/step - loss: 0.1377 - accuracy: 0.9467 - val_loss: 0.2426 - val_accuracy: 0.9120\n",
            "Epoch 11/50\n",
            "280/280 [==============================] - 10s 35ms/step - loss: 0.1490 - accuracy: 0.9461 - val_loss: 0.1762 - val_accuracy: 0.9360\n",
            "Epoch 12/50\n",
            "280/280 [==============================] - 10s 34ms/step - loss: 0.1434 - accuracy: 0.9466 - val_loss: 0.1869 - val_accuracy: 0.9300\n",
            "Epoch 13/50\n",
            "280/280 [==============================] - 11s 38ms/step - loss: 0.1268 - accuracy: 0.9497 - val_loss: 0.1792 - val_accuracy: 0.9400\n",
            "Epoch 14/50\n",
            "280/280 [==============================] - 10s 34ms/step - loss: 0.1273 - accuracy: 0.9527 - val_loss: 0.1575 - val_accuracy: 0.9400\n",
            "Epoch 15/50\n",
            "280/280 [==============================] - 10s 35ms/step - loss: 0.1283 - accuracy: 0.9551 - val_loss: 0.1718 - val_accuracy: 0.9440\n",
            "Epoch 16/50\n",
            "280/280 [==============================] - 9s 34ms/step - loss: 0.1234 - accuracy: 0.9514 - val_loss: 0.1455 - val_accuracy: 0.9480\n",
            "Epoch 17/50\n",
            "280/280 [==============================] - 10s 35ms/step - loss: 0.1292 - accuracy: 0.9526 - val_loss: 0.1254 - val_accuracy: 0.9500\n",
            "Epoch 18/50\n",
            "280/280 [==============================] - 9s 34ms/step - loss: 0.1318 - accuracy: 0.9510 - val_loss: 0.1401 - val_accuracy: 0.9480\n",
            "Epoch 19/50\n",
            "280/280 [==============================] - 10s 35ms/step - loss: 0.1217 - accuracy: 0.9574 - val_loss: 0.1142 - val_accuracy: 0.9560\n",
            "Epoch 20/50\n",
            "280/280 [==============================] - 9s 34ms/step - loss: 0.1159 - accuracy: 0.9570 - val_loss: 0.0972 - val_accuracy: 0.9620\n",
            "Epoch 21/50\n",
            "280/280 [==============================] - 10s 36ms/step - loss: 0.1116 - accuracy: 0.9600 - val_loss: 0.1078 - val_accuracy: 0.9600\n",
            "Epoch 22/50\n",
            "280/280 [==============================] - 10s 35ms/step - loss: 0.1195 - accuracy: 0.9564 - val_loss: 0.0832 - val_accuracy: 0.9720\n",
            "Epoch 23/50\n",
            "280/280 [==============================] - 10s 35ms/step - loss: 0.1196 - accuracy: 0.9576 - val_loss: 0.0747 - val_accuracy: 0.9760\n",
            "Epoch 24/50\n",
            "280/280 [==============================] - 9s 34ms/step - loss: 0.1137 - accuracy: 0.9553 - val_loss: 0.0880 - val_accuracy: 0.9700\n",
            "Epoch 25/50\n",
            "280/280 [==============================] - 10s 35ms/step - loss: 0.1177 - accuracy: 0.9554 - val_loss: 0.0767 - val_accuracy: 0.9720\n",
            "Epoch 26/50\n",
            "280/280 [==============================] - 10s 34ms/step - loss: 0.1145 - accuracy: 0.9564 - val_loss: 0.0689 - val_accuracy: 0.9780\n",
            "Epoch 27/50\n",
            "280/280 [==============================] - 10s 35ms/step - loss: 0.1035 - accuracy: 0.9593 - val_loss: 0.0735 - val_accuracy: 0.9760\n",
            "Epoch 28/50\n",
            "280/280 [==============================] - 9s 34ms/step - loss: 0.1138 - accuracy: 0.9573 - val_loss: 0.0722 - val_accuracy: 0.9780\n",
            "Epoch 29/50\n",
            "280/280 [==============================] - 10s 35ms/step - loss: 0.1101 - accuracy: 0.9566 - val_loss: 0.0753 - val_accuracy: 0.9760\n",
            "Epoch 30/50\n",
            "280/280 [==============================] - 10s 35ms/step - loss: 0.1002 - accuracy: 0.9617 - val_loss: 0.0777 - val_accuracy: 0.9740\n",
            "Epoch 31/50\n",
            "280/280 [==============================] - 10s 35ms/step - loss: 0.0979 - accuracy: 0.9639 - val_loss: 0.0903 - val_accuracy: 0.9700\n",
            "Epoch 32/50\n",
            "280/280 [==============================] - 9s 34ms/step - loss: 0.1021 - accuracy: 0.9616 - val_loss: 0.0826 - val_accuracy: 0.9740\n",
            "Epoch 33/50\n",
            "280/280 [==============================] - 10s 35ms/step - loss: 0.0936 - accuracy: 0.9663 - val_loss: 0.0728 - val_accuracy: 0.9740\n",
            "Epoch 34/50\n",
            "280/280 [==============================] - 9s 34ms/step - loss: 0.0925 - accuracy: 0.9650 - val_loss: 0.0688 - val_accuracy: 0.9760\n",
            "Epoch 35/50\n",
            "280/280 [==============================] - 10s 35ms/step - loss: 0.1036 - accuracy: 0.9630 - val_loss: 0.0642 - val_accuracy: 0.9740\n",
            "Epoch 36/50\n",
            "280/280 [==============================] - 9s 34ms/step - loss: 0.1032 - accuracy: 0.9596 - val_loss: 0.0641 - val_accuracy: 0.9760\n",
            "Epoch 37/50\n",
            "280/280 [==============================] - 10s 35ms/step - loss: 0.0998 - accuracy: 0.9620 - val_loss: 0.0670 - val_accuracy: 0.9740\n",
            "Epoch 38/50\n",
            "280/280 [==============================] - 9s 34ms/step - loss: 0.1097 - accuracy: 0.9590 - val_loss: 0.0634 - val_accuracy: 0.9780\n",
            "Epoch 39/50\n",
            "280/280 [==============================] - 10s 36ms/step - loss: 0.0880 - accuracy: 0.9680 - val_loss: 0.0770 - val_accuracy: 0.9740\n",
            "Epoch 40/50\n",
            "280/280 [==============================] - 10s 34ms/step - loss: 0.0959 - accuracy: 0.9649 - val_loss: 0.0627 - val_accuracy: 0.9780\n",
            "Epoch 41/50\n",
            "280/280 [==============================] - 10s 35ms/step - loss: 0.1011 - accuracy: 0.9614 - val_loss: 0.0677 - val_accuracy: 0.9740\n",
            "Epoch 42/50\n",
            "280/280 [==============================] - 9s 34ms/step - loss: 0.1016 - accuracy: 0.9603 - val_loss: 0.0906 - val_accuracy: 0.9720\n",
            "Epoch 43/50\n",
            "280/280 [==============================] - 10s 35ms/step - loss: 0.0956 - accuracy: 0.9644 - val_loss: 0.0783 - val_accuracy: 0.9740\n",
            "Epoch 44/50\n",
            "280/280 [==============================] - 10s 35ms/step - loss: 0.0919 - accuracy: 0.9657 - val_loss: 0.0742 - val_accuracy: 0.9740\n",
            "Epoch 45/50\n",
            "280/280 [==============================] - 10s 37ms/step - loss: 0.0969 - accuracy: 0.9623 - val_loss: 0.0790 - val_accuracy: 0.9740\n",
            "Epoch 46/50\n",
            "280/280 [==============================] - 9s 34ms/step - loss: 0.0874 - accuracy: 0.9639 - val_loss: 0.0742 - val_accuracy: 0.9720\n",
            "Epoch 47/50\n",
            "280/280 [==============================] - 10s 36ms/step - loss: 0.0914 - accuracy: 0.9671 - val_loss: 0.0689 - val_accuracy: 0.9740\n",
            "Epoch 48/50\n",
            "280/280 [==============================] - 9s 34ms/step - loss: 0.0969 - accuracy: 0.9651 - val_loss: 0.0624 - val_accuracy: 0.9740\n",
            "Epoch 49/50\n",
            "280/280 [==============================] - 10s 35ms/step - loss: 0.0945 - accuracy: 0.9644 - val_loss: 0.0667 - val_accuracy: 0.9740\n",
            "Epoch 50/50\n",
            "280/280 [==============================] - 9s 34ms/step - loss: 0.0919 - accuracy: 0.9643 - val_loss: 0.0615 - val_accuracy: 0.9760\n"
          ],
          "name": "stdout"
        }
      ]
    },
    {
      "cell_type": "code",
      "metadata": {
        "id": "sjFrer4mGk_I",
        "colab_type": "code",
        "colab": {}
      },
      "source": [
        "# Save model weights\n",
        "model.save_weights('weights_MobileNet')"
      ],
      "execution_count": 0,
      "outputs": []
    },
    {
      "cell_type": "markdown",
      "metadata": {
        "id": "97mFvGkazun7",
        "colab_type": "text"
      },
      "source": [
        "# 8. Check model performance after training"
      ]
    },
    {
      "cell_type": "code",
      "metadata": {
        "id": "e3ilB5R6B0t9",
        "colab_type": "code",
        "outputId": "45dba39f-cf27-436f-e007-3967e377dc06",
        "colab": {
          "base_uri": "https://localhost:8080/",
          "height": 514
        }
      },
      "source": [
        "acc = history.history['accuracy']\n",
        "val_acc = history.history['val_accuracy']\n",
        "\n",
        "loss = history.history['loss']\n",
        "val_loss = history.history['val_loss']\n",
        "\n",
        "plt.figure(figsize=(8, 8))\n",
        "plt.subplot(2, 1, 1)\n",
        "plt.plot(acc, label='Training Accuracy')\n",
        "plt.plot(val_acc, label='Validation Accuracy')\n",
        "plt.legend(loc='lower right')\n",
        "plt.ylabel('Accuracy')\n",
        "plt.title('Training and Validation Accuracy')\n",
        "\n",
        "plt.subplot(2, 1, 2)\n",
        "plt.plot(loss, label='Training Loss')\n",
        "plt.plot(val_loss, label='Validation Loss')\n",
        "plt.legend(loc='upper right')\n",
        "plt.ylabel('Cross Entropy')\n",
        "plt.title('Training and Validation Loss')\n",
        "plt.xlabel('epoch')\n",
        "plt.show()"
      ],
      "execution_count": 0,
      "outputs": [
        {
          "output_type": "display_data",
          "data": {
            "image/png": "[encoded data removed]",
            "text/plain": [
              "<Figure size 576x576 with 2 Axes>"
            ]
          },
          "metadata": {
            "tags": []
          }
        }
      ]
    },
    {
      "cell_type": "markdown",
      "metadata": {
        "id": "eZumwblAS89h",
        "colab_type": "text"
      },
      "source": [
        "# 9. Fine Tune the model to increase its performance (more epochs)"
      ]
    },
    {
      "cell_type": "code",
      "metadata": {
        "id": "uwwyieJwJZT4",
        "colab_type": "code",
        "colab": {}
      },
      "source": [
        "# Unfreeze all layers of MobileNetV2\n",
        "base_model.trainable = True\n",
        "\n",
        "# Refreeze layers until the layers we want to fine-tune\n",
        "for layer in base_model.layers[:100]:\n",
        "  layer.trainable =  False"
      ],
      "execution_count": 0,
      "outputs": []
    },
    {
      "cell_type": "code",
      "metadata": {
        "id": "ghmKK9w-KR47",
        "colab_type": "code",
        "outputId": "17f27976-3e39-48aa-844a-88c0b31d20c9",
        "colab": {
          "base_uri": "https://localhost:8080/",
          "height": 255
        }
      },
      "source": [
        "model.compile(loss='binary_crossentropy',\n",
        "              optimizer = tf.keras.optimizers.Adam(lr=learning_rate/10),\n",
        "              metrics=['accuracy'])\n",
        "model.summary()"
      ],
      "execution_count": 0,
      "outputs": [
        {
          "output_type": "stream",
          "text": [
            "Model: \"sequential\"\n",
            "_________________________________________________________________\n",
            "Layer (type)                 Output Shape              Param #   \n",
            "=================================================================\n",
            "mobilenetv2_1.00_96 (Model)  (None, 3, 3, 1280)        2257984   \n",
            "_________________________________________________________________\n",
            "global_max_pooling2d (Global (None, 1280)              0         \n",
            "_________________________________________________________________\n",
            "dense (Dense)                (None, 1)                 1281      \n",
            "=================================================================\n",
            "Total params: 2,259,265\n",
            "Trainable params: 1,863,873\n",
            "Non-trainable params: 395,392\n",
            "_________________________________________________________________\n"
          ],
          "name": "stdout"
        }
      ]
    },
    {
      "cell_type": "code",
      "metadata": {
        "id": "JjQAjSPsKdXo",
        "colab_type": "code",
        "colab": {}
      },
      "source": [
        "fine_tune_epochs = 30\n",
        "total_epochs =  num_epochs + fine_tune_epochs\n",
        "\n",
        "history_fine = model.fit(train_data.repeat(), \n",
        "                         steps_per_epoch = steps_per_epoch,\n",
        "                         epochs=total_epochs, \n",
        "                         initial_epoch = num_epochs,\n",
        "                         validation_data=val_data.repeat(), \n",
        "                         validation_steps=val_steps)"
      ],
      "execution_count": 0,
      "outputs": []
    },
    {
      "cell_type": "code",
      "metadata": {
        "id": "g5QYqleJLzRR",
        "colab_type": "code",
        "colab": {}
      },
      "source": [
        "# Save fine-tuned model weights\n",
        "model.save_weights('weights_epoch_50_finetuned.h5')"
      ],
      "execution_count": 0,
      "outputs": []
    },
    {
      "cell_type": "code",
      "metadata": {
        "id": "39NSyQP0Kt_v",
        "colab_type": "code",
        "colab": {}
      },
      "source": [
        "acc += history_fine.history['accuracy']\n",
        "val_acc += history_fine.history['val_accuracy']\n",
        "\n",
        "loss += history_fine.history['loss']\n",
        "val_loss += history_fine.history['val_loss']"
      ],
      "execution_count": 0,
      "outputs": []
    },
    {
      "cell_type": "code",
      "metadata": {
        "id": "FtY5M0e5KunO",
        "colab_type": "code",
        "outputId": "e3ac204a-c0fd-4f3d-bf17-63b3a7e5b954",
        "colab": {
          "base_uri": "https://localhost:8080/",
          "height": 512
        }
      },
      "source": [
        "plt.figure(figsize=(8, 8))\n",
        "plt.subplot(2, 1, 1)\n",
        "plt.plot(acc, label='Training Accuracy')\n",
        "plt.plot(val_acc, label='Validation Accuracy')\n",
        "plt.plot([num_epochs-1,num_epochs-1], \n",
        "          plt.ylim(), label='Start Fine Tuning')\n",
        "plt.legend(loc='lower right')\n",
        "plt.title('Training and Validation Accuracy')\n",
        "\n",
        "plt.subplot(2, 1, 2)\n",
        "plt.plot(loss, label='Training Loss')\n",
        "plt.plot(val_loss, label='Validation Loss')\n",
        "plt.plot([num_epochs-1,num_epochs-1], \n",
        "         plt.ylim(), label='Start Fine Tuning')\n",
        "plt.legend(loc='upper right')\n",
        "plt.title('Training and Validation Loss')\n",
        "plt.xlabel('epoch')\n",
        "plt.show()"
      ],
      "execution_count": 0,
      "outputs": [
        {
          "output_type": "display_data",
          "data": {
            "image/png": "[encoded data removed]",
            "text/plain": [
              "<Figure size 576x576 with 2 Axes>"
            ]
          },
          "metadata": {
            "tags": []
          }
        }
      ]
    }
  ]
}