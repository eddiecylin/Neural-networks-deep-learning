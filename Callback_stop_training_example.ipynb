{
  "nbformat": 4,
  "nbformat_minor": 0,
  "metadata": {
    "colab": {
      "name": "Callback_stop_training_example.ipynb",
      "version": "0.3.2",
      "provenance": [],
      "collapsed_sections": []
    },
    "kernelspec": {
      "name": "python3",
      "display_name": "Python 3"
    },
    "accelerator": "GPU"
  },
  "cells": [
    {
      "cell_type": "markdown",
      "metadata": {
        "id": "tOoyQ70H00_s",
        "colab_type": "text"
      },
      "source": [
        "## The following example show the callback set up to stop CNN model training after reaching a target accuracy\n",
        "Reference: Laurence Moroney from Introduction to TensorFlow for Artificial Intelligence, Machine Learning, and Deep Learning (Coursera)\n"
      ]
    },
    {
      "cell_type": "code",
      "metadata": {
        "id": "ycUJR8LBLV4K",
        "colab_type": "code",
        "colab": {}
      },
      "source": [
        "# Define callback to stop training when it model reaches 99% accuracy\n",
        "\n",
        "import tensorflow as tf\n",
        "\n",
        "class callBack(tf.keras.callbacks.Callback):\n",
        "  def on_epoch_end(self, epoch, log={}):\n",
        "    if(log.get('acc') >= 0.99):\n",
        "      print(\"\\n Training has stopped, the training model has reached 99% accuracy\")\n",
        "      self.model.stop_training = True\n",
        "    \n"
      ],
      "execution_count": 0,
      "outputs": []
    },
    {
      "cell_type": "code",
      "metadata": {
        "id": "9rvXQGAA0ssC",
        "colab_type": "code",
        "outputId": "ddb9acd3-38d0-424b-a029-47677e6c9597",
        "colab": {
          "base_uri": "https://localhost:8080/",
          "height": 180
        }
      },
      "source": [
        "\n",
        "# instantiate the Callback class\n",
        "callbacks = callBack()\n",
        "\n",
        "# import and laod data\n",
        "mnist = tf.keras.datasets.mnist\n",
        "(x_train, y_train),(x_test, y_test) = mnist.load_data()\n",
        "x_train = x_train/255.0\n",
        "x_test = x_test/255.0\n",
        "\n",
        "# set up CNN model\n",
        "model = tf.keras.models.Sequential([\n",
        "    tf.keras.layers.Flatten(),\n",
        "    tf.keras.layers.Dense(512, activation=tf.nn.relu),\n",
        "    tf.keras.layers.Dense(10, activation=tf.nn.softmax)\n",
        "])\n",
        "\n",
        "# compile model\n",
        "model.compile(optimizer='adam',\n",
        "              loss='sparse_categorical_crossentropy',\n",
        "              metrics=['accuracy'])\n",
        "\n",
        "# train model\n",
        "model.fit(x_train, y_train, epochs=10, callbacks = [callbacks])"
      ],
      "execution_count": 0,
      "outputs": [
        {
          "output_type": "stream",
          "text": [
            "Epoch 1/10\n",
            "60000/60000 [==============================] - 6s 100us/sample - loss: 0.2007 - acc: 0.9407\n",
            "Epoch 2/10\n",
            "60000/60000 [==============================] - 6s 100us/sample - loss: 0.0794 - acc: 0.9761\n",
            "Epoch 3/10\n",
            "60000/60000 [==============================] - 6s 100us/sample - loss: 0.0517 - acc: 0.9838\n",
            "Epoch 4/10\n",
            "60000/60000 [==============================] - 6s 100us/sample - loss: 0.0368 - acc: 0.9879\n",
            "Epoch 5/10\n",
            "56672/60000 [===========================>..] - ETA: 0s - loss: 0.0265 - acc: 0.9919"
          ],
          "name": "stdout"
        }
      ]
    }
  ]
}